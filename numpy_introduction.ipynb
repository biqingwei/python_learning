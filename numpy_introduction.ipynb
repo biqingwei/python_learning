{
 "cells": [
  {
   "cell_type": "markdown",
   "id": "f8a6bcaf",
   "metadata": {},
   "source": [
    "网站 孙兴华中文讲python数据分析三部曲入门篇\n",
    "https://www.bilibili.com/video/BV1ji4y157uB?p=2&vd_source=17313a21df4ec37cbc2cb8a0a40da5c9\n",
    "\n",
    "markdown = esc + m\n",
    "run = shift + enter\n",
    "\n",
    "注意点：是不是修改原有数组。"
   ]
  },
  {
   "cell_type": "code",
   "execution_count": 99,
   "id": "9a7ab6b8",
   "metadata": {},
   "outputs": [],
   "source": [
    "import numpy as np\n",
    "import pandas as pd\n",
    "import matplotlib.pyplot as plt"
   ]
  },
  {
   "cell_type": "markdown",
   "id": "d0648d9d",
   "metadata": {},
   "source": [
    "1D array (4,)  \n",
    "2D array (2,3)  \n",
    "3D array (2,3,4)  \n",
    "Numpy: make array element calc much easier  \n",
    "由于python先循环遍历再计算，Numpy直接计算，计算数量越大越节省时间"
   ]
  },
  {
   "cell_type": "code",
   "execution_count": 4,
   "id": "b7f76b30",
   "metadata": {},
   "outputs": [
    {
     "name": "stdout",
     "output_type": "stream",
     "text": [
      "[2, 12, 36]\n"
     ]
    }
   ],
   "source": [
    "def array_sum_0(n):\n",
    "    a = [i**3 for i in range(1, n+1)]\n",
    "    b = [i**2 for i in range(1, n+1)]\n",
    "    c = []\n",
    "    for i in range(n):\n",
    "        c.append(a[i] + b[i])\n",
    "    return c\n",
    "print(array_sum_0(3))"
   ]
  },
  {
   "cell_type": "code",
   "execution_count": 3,
   "id": "874994d0",
   "metadata": {},
   "outputs": [
    {
     "name": "stdout",
     "output_type": "stream",
     "text": [
      "[ 2 12 36]\n"
     ]
    }
   ],
   "source": [
    "def array_sum(n):\n",
    "    a = np.arange(1,n+1) **3\n",
    "    b = np.arange(1,n+1) **2\n",
    "    return a+b\n",
    "print(array_sum(3))"
   ]
  },
  {
   "cell_type": "markdown",
   "id": "92b3dc2a",
   "metadata": {},
   "source": [
    "# 创建数组\n",
    "\n",
    "np.array()将输入数据（列表，元祖，数组及其他序列）转化为ndarry(Numpy数组)"
   ]
  },
  {
   "cell_type": "code",
   "execution_count": 11,
   "id": "fbc370ab",
   "metadata": {},
   "outputs": [
    {
     "name": "stdout",
     "output_type": "stream",
     "text": [
      "[1. 2. 3. 4. 5.]\n",
      "[1 2 3 4 5]\n",
      "float64\n",
      "int64\n",
      "<class 'numpy.ndarray'>\n",
      "(5,)\n",
      "5\n"
     ]
    }
   ],
   "source": [
    "a = np.array( range(1,6), dtype = float )\n",
    "b = np.arange(1,6) #(start),end,(step) recommend!\n",
    "print(a)\n",
    "print(b)\n",
    "print(a.dtype) #数组中element的数据类型\n",
    "print(b.dtype)\n",
    "print(type(a))\n",
    "print(a.shape) #row * col\n",
    "print(a.size) #element size"
   ]
  },
  {
   "cell_type": "code",
   "execution_count": 16,
   "id": "881047be",
   "metadata": {},
   "outputs": [
    {
     "name": "stdout",
     "output_type": "stream",
     "text": [
      "[1. 1. 1.]\n",
      "[[1. 1. 1.]\n",
      " [1. 1. 1.]]\n",
      "[[0. 0. 0.]\n",
      " [0. 0. 0.]\n",
      " [0. 0. 0.]]\n",
      "[[520 520 520]\n",
      " [520 520 520]\n",
      " [520 520 520]]\n"
     ]
    }
   ],
   "source": [
    "c = np.ones(3) \n",
    "d = np.ones((2,3)) #元祖\n",
    "e = np.zeros((3,3))\n",
    "f = np.full( (3,3), 520 )\n",
    "print(c)\n",
    "print(d)\n",
    "print(e)\n",
    "print(f)"
   ]
  },
  {
   "cell_type": "code",
   "execution_count": 20,
   "id": "7990fe40",
   "metadata": {},
   "outputs": [
    {
     "name": "stdout",
     "output_type": "stream",
     "text": [
      "[[1 2 3]\n",
      " [4 5 6]]\n",
      "(2, 3)\n",
      "2\n",
      "6\n",
      "int64\n"
     ]
    }
   ],
   "source": [
    "g = np.array([ [1,2,3],[4,5,6] ]) #注意两个[]\n",
    "print(g)\n",
    "print(g.shape)\n",
    "print(g.ndim) #纬度\n",
    "print(g.size)\n",
    "print(g.dtype)"
   ]
  },
  {
   "cell_type": "code",
   "execution_count": 24,
   "id": "18cdcf59",
   "metadata": {},
   "outputs": [
    {
     "name": "stdout",
     "output_type": "stream",
     "text": [
      "[[1 1 1]\n",
      " [1 1 1]]\n",
      "[[0 0 0]\n",
      " [0 0 0]]\n",
      "[[520 520 520]\n",
      " [520 520 520]]\n"
     ]
    }
   ],
   "source": [
    "h = np.ones_like(g)\n",
    "print(h)\n",
    "i = np.zeros_like(g)\n",
    "print(i)\n",
    "j = np.full_like(g, 520)\n",
    "print(j)"
   ]
  },
  {
   "cell_type": "code",
   "execution_count": 28,
   "id": "e4e31535",
   "metadata": {},
   "outputs": [
    {
     "name": "stdout",
     "output_type": "stream",
     "text": [
      "[ 0.58757611 -1.89693641 -2.43919535]\n",
      "[[-0.57433872 -0.06374786]\n",
      " [ 1.31346491  0.57734758]\n",
      " [ 0.41943709  0.82274393]]\n"
     ]
    }
   ],
   "source": [
    "k = np.random.randn(3)\n",
    "print(k)\n",
    "l = np.random.randn(3,2) #不需要写在元祖里\n",
    "print(l)"
   ]
  },
  {
   "cell_type": "markdown",
   "id": "d08cbc97",
   "metadata": {},
   "source": [
    "# 数组的计算\n",
    "\n",
    "对每个element进行计算 \n",
    "最后一位小于  \n",
    "前一纬度等于  \n",
    "即可广播  "
   ]
  },
  {
   "cell_type": "code",
   "execution_count": 34,
   "id": "d1b8dfed",
   "metadata": {},
   "outputs": [
    {
     "name": "stdout",
     "output_type": "stream",
     "text": [
      "[[0 1 2 3 4]\n",
      " [5 6 7 8 9]]\n"
     ]
    }
   ],
   "source": [
    "a  = np.arange(10).reshape(2,5) #10 = 2 * 5\n",
    "print(a)"
   ]
  },
  {
   "cell_type": "code",
   "execution_count": 35,
   "id": "06c92fe8",
   "metadata": {},
   "outputs": [
    {
     "name": "stdout",
     "output_type": "stream",
     "text": [
      "[[ 1  2  3  4  5]\n",
      " [ 6  7  8  9 10]]\n"
     ]
    }
   ],
   "source": [
    "print(a+1) #给每个element都+1"
   ]
  },
  {
   "cell_type": "code",
   "execution_count": 36,
   "id": "3b33c6b7",
   "metadata": {},
   "outputs": [
    {
     "name": "stdout",
     "output_type": "stream",
     "text": [
      "[[-0.13979445  1.85745854  2.07859797  0.68412649  3.22364155]\n",
      " [ 5.36151135  6.53875996  7.54215894  8.31112586 10.13937348]]\n"
     ]
    }
   ],
   "source": [
    "b = np.random.randn(2,5)\n",
    "print(a+b)"
   ]
  },
  {
   "cell_type": "code",
   "execution_count": 37,
   "id": "da4b08aa",
   "metadata": {},
   "outputs": [
    {
     "name": "stdout",
     "output_type": "stream",
     "text": [
      "[[1.05074347 1.94370137 2.26572986 3.1779305  4.79536919]\n",
      " [6.05074347 6.94370137 7.26572986 8.1779305  9.79536919]]\n"
     ]
    }
   ],
   "source": [
    "c = np.random.randn(1,5) \n",
    "print(a - c) #a的每一行减去c，a有两行"
   ]
  },
  {
   "cell_type": "code",
   "execution_count": 38,
   "id": "3c9ee5e2",
   "metadata": {},
   "outputs": [
    {
     "name": "stdout",
     "output_type": "stream",
     "text": [
      "[[-2.11603727 -1.11603727 -0.11603727  0.88396273  1.88396273]\n",
      " [ 4.6864697   5.6864697   6.6864697   7.6864697   8.6864697 ]]\n"
     ]
    }
   ],
   "source": [
    "d = np.random.randn(2,1)\n",
    "print(a - d) #a的每一列减去d，a有5列"
   ]
  },
  {
   "cell_type": "markdown",
   "id": "80753cc6",
   "metadata": {},
   "source": [
    "# 基础索引与切片\n",
    "\n",
    "包含开始  \n",
    "不包含结束"
   ]
  },
  {
   "cell_type": "code",
   "execution_count": 42,
   "id": "9f37c703",
   "metadata": {},
   "outputs": [
    {
     "name": "stdout",
     "output_type": "stream",
     "text": [
      "[0 1 2 3 4 5 6 7 8 9]\n",
      "5\n",
      "[3 4 5 6 7 8]\n"
     ]
    }
   ],
   "source": [
    "a = np.arange(10)\n",
    "print(a)\n",
    "print(a[5])\n",
    "print(a[3:9])"
   ]
  },
  {
   "cell_type": "code",
   "execution_count": 47,
   "id": "a4a03f51",
   "metadata": {},
   "outputs": [
    {
     "name": "stdout",
     "output_type": "stream",
     "text": [
      "[[ 0  1  2  3  4]\n",
      " [ 5  6  7  8  9]\n",
      " [10 11 12 13 14]\n",
      " [15 16 17 18 19]]\n",
      "0\n",
      "17\n"
     ]
    }
   ],
   "source": [
    "b = np.arange(20).reshape(4,5)\n",
    "print(b)\n",
    "#element\n",
    "print(b[0,0])\n",
    "print(b[-1,2])"
   ]
  },
  {
   "cell_type": "code",
   "execution_count": 48,
   "id": "eb22ecb8",
   "metadata": {},
   "outputs": [
    {
     "name": "stdout",
     "output_type": "stream",
     "text": [
      "[10 11 12 13 14]\n",
      "[15 16 17 18 19]\n"
     ]
    }
   ],
   "source": [
    "#get row\n",
    "print(b[2])\n",
    "print(b[-1])"
   ]
  },
  {
   "cell_type": "code",
   "execution_count": 51,
   "id": "e33d64f7",
   "metadata": {},
   "outputs": [
    {
     "name": "stdout",
     "output_type": "stream",
     "text": [
      "[[ 0  1  2  3  4]\n",
      " [ 5  6  7  8  9]\n",
      " [10 11 12 13 14]]\n",
      "[[2 3]\n",
      " [7 8]]\n",
      "[ 2  7 12 17]\n"
     ]
    }
   ],
   "source": [
    "#get rows and cols\n",
    "print(b[0:-1]) #except last row\n",
    "print(b[0:2, 2:4])#row:0,1 and col: 2,3\n",
    "print(b[:,2]) #all row and col 2"
   ]
  },
  {
   "cell_type": "markdown",
   "id": "53a4d43b",
   "metadata": {},
   "source": [
    "# bool index"
   ]
  },
  {
   "cell_type": "code",
   "execution_count": 58,
   "id": "5869df33",
   "metadata": {},
   "outputs": [
    {
     "name": "stdout",
     "output_type": "stream",
     "text": [
      "[0 1 2 3 4 5 6 7 8 9]\n",
      "[False False False False False False  True  True  True  True]\n",
      "[6 7 8 9]\n"
     ]
    }
   ],
   "source": [
    "a = np.arange(10)\n",
    "print(a)\n",
    "cond = a >5\n",
    "print(cond)\n",
    "print(a[cond])"
   ]
  },
  {
   "cell_type": "code",
   "execution_count": 59,
   "id": "fcd3e3ff",
   "metadata": {},
   "outputs": [
    {
     "name": "stdout",
     "output_type": "stream",
     "text": [
      "[0 0 0 0 0 0 6 7 8 9]\n"
     ]
    }
   ],
   "source": [
    "a[a<=5] = 0\n",
    "print(a)"
   ]
  },
  {
   "cell_type": "code",
   "execution_count": 60,
   "id": "c1c8c0b5",
   "metadata": {},
   "outputs": [
    {
     "name": "stdout",
     "output_type": "stream",
     "text": [
      "[  0   0   0   0   0   0 526 527 528 529]\n"
     ]
    }
   ],
   "source": [
    "a[a>5] +=520\n",
    "print(a)"
   ]
  },
  {
   "cell_type": "code",
   "execution_count": 65,
   "id": "1a64c9d0",
   "metadata": {},
   "outputs": [
    {
     "name": "stdout",
     "output_type": "stream",
     "text": [
      "[[ 1  2  3  4  5]\n",
      " [ 6  7  8  9 10]\n",
      " [11 12 13 14 15]\n",
      " [16 17 18 19 20]]\n",
      "[11 12 13 14 15 16 17 18 19 20]\n"
     ]
    }
   ],
   "source": [
    "b = np.arange(1,21).reshape(4,5)\n",
    "print(b)\n",
    "print(b[b>10])"
   ]
  },
  {
   "cell_type": "code",
   "execution_count": 66,
   "id": "0b6a3de1",
   "metadata": {},
   "outputs": [
    {
     "name": "stdout",
     "output_type": "stream",
     "text": [
      "[[  1   2   3   4   5]\n",
      " [  6   7   8 520  10]\n",
      " [ 11  12  13 520  15]\n",
      " [ 16  17  18 520  20]]\n"
     ]
    }
   ],
   "source": [
    "#把第三列大于5的行筛选出来并重新赋值为520\n",
    "#b[b[:,3] >5] = 520\n",
    "#print(b)\n",
    "\n",
    "b[:,3][b[:,3] > 5] = 520 #上面是错的\n",
    "print(b)"
   ]
  },
  {
   "cell_type": "code",
   "execution_count": 68,
   "id": "055ce4d2",
   "metadata": {},
   "outputs": [
    {
     "name": "stdout",
     "output_type": "stream",
     "text": [
      "[  1   2   3   4   5   6   8 520  10  12 520  16  18 520  20]\n"
     ]
    }
   ],
   "source": [
    "#找出偶数或者小于7\n",
    "print( b[(b%2 == 0) | (b < 7)] ) #注意括号"
   ]
  },
  {
   "cell_type": "markdown",
   "id": "300f7858",
   "metadata": {},
   "source": [
    "# 神奇索引"
   ]
  },
  {
   "cell_type": "code",
   "execution_count": 72,
   "id": "9e084466",
   "metadata": {},
   "outputs": [
    {
     "name": "stdout",
     "output_type": "stream",
     "text": [
      "[[ 0  1  2  3]\n",
      " [ 4  5  6  7]\n",
      " [ 8  9 10 11]\n",
      " [12 13 14 15]\n",
      " [16 17 18 19]\n",
      " [20 21 22 23]\n",
      " [24 25 26 27]\n",
      " [28 29 30 31]\n",
      " [32 33 34 35]]\n"
     ]
    }
   ],
   "source": [
    "array = np.arange(36).reshape(9,4)\n",
    "print(array)"
   ]
  },
  {
   "cell_type": "code",
   "execution_count": 74,
   "id": "aca737e5",
   "metadata": {},
   "outputs": [
    {
     "name": "stdout",
     "output_type": "stream",
     "text": [
      "[[16 17 18 19]\n",
      " [12 13 14 15]\n",
      " [ 0  1  2  3]\n",
      " [24 25 26 27]]\n"
     ]
    }
   ],
   "source": [
    "print(array[[4,3,0,6]]) #rows in certain order"
   ]
  },
  {
   "cell_type": "code",
   "execution_count": 77,
   "id": "59290121",
   "metadata": {},
   "outputs": [
    {
     "name": "stdout",
     "output_type": "stream",
     "text": [
      "[ 4 23 29 10]\n"
     ]
    }
   ],
   "source": [
    "print(array[[1,5,7,2], [0,3,1,2]]) #row*col elements"
   ]
  },
  {
   "cell_type": "code",
   "execution_count": 78,
   "id": "f57ad69f",
   "metadata": {},
   "outputs": [
    {
     "name": "stdout",
     "output_type": "stream",
     "text": [
      "[[ 1  2]\n",
      " [ 5  6]\n",
      " [ 9 10]\n",
      " [13 14]\n",
      " [17 18]\n",
      " [21 22]\n",
      " [25 26]\n",
      " [29 30]\n",
      " [33 34]]\n"
     ]
    }
   ],
   "source": [
    "print( array[:, [1,2]] )"
   ]
  },
  {
   "cell_type": "code",
   "execution_count": 82,
   "id": "06d1afb2",
   "metadata": {},
   "outputs": [
    {
     "name": "stdout",
     "output_type": "stream",
     "text": [
      "[22 16 16 38 59  7 44 45 63  6]\n",
      "[7 4 8]\n",
      "max three number is [45 59 63]\n"
     ]
    }
   ],
   "source": [
    "#h获取数组中最大的前N个数字\n",
    "rand = np.random.randint(1,100,10)\n",
    "print(rand)\n",
    "index = rand.argsort()[-3:]\n",
    "print(index)\n",
    "print(f'max three number is {rand[index]}')"
   ]
  },
  {
   "cell_type": "markdown",
   "id": "af2feb73",
   "metadata": {},
   "source": [
    "# 数组的转制"
   ]
  },
  {
   "cell_type": "code",
   "execution_count": 86,
   "id": "6014cfab",
   "metadata": {},
   "outputs": [
    {
     "name": "stdout",
     "output_type": "stream",
     "text": [
      "[[ 0  1  2  3  4  5]\n",
      " [ 6  7  8  9 10 11]\n",
      " [12 13 14 15 16 17]\n",
      " [18 19 20 21 22 23]]\n",
      "(4, 6)\n"
     ]
    }
   ],
   "source": [
    "arr = np.arange(24).reshape(4,6)\n",
    "print(arr)\n",
    "print(arr.shape)"
   ]
  },
  {
   "cell_type": "code",
   "execution_count": 87,
   "id": "482e02f6",
   "metadata": {},
   "outputs": [
    {
     "name": "stdout",
     "output_type": "stream",
     "text": [
      "[[ 0  6 12 18]\n",
      " [ 1  7 13 19]\n",
      " [ 2  8 14 20]\n",
      " [ 3  9 15 21]\n",
      " [ 4 10 16 22]\n",
      " [ 5 11 17 23]]\n"
     ]
    }
   ],
   "source": [
    "print(arr.transpose()) "
   ]
  },
  {
   "cell_type": "code",
   "execution_count": 89,
   "id": "74d7cb17",
   "metadata": {},
   "outputs": [
    {
     "name": "stdout",
     "output_type": "stream",
     "text": [
      "[[ 0  6 12 18]\n",
      " [ 1  7 13 19]\n",
      " [ 2  8 14 20]\n",
      " [ 3  9 15 21]\n",
      " [ 4 10 16 22]\n",
      " [ 5 11 17 23]]\n"
     ]
    }
   ],
   "source": [
    "print(arr.swapaxes(1,0)) #轴转制"
   ]
  },
  {
   "cell_type": "markdown",
   "id": "5c4558de",
   "metadata": {},
   "source": [
    "# 随机数"
   ]
  },
  {
   "cell_type": "code",
   "execution_count": 115,
   "id": "ee5d87d3",
   "metadata": {},
   "outputs": [
    {
     "name": "stdout",
     "output_type": "stream",
     "text": [
      "[4.17022005e-01 7.20324493e-01 1.14374817e-04]\n",
      "[[0.30233257 0.14675589 0.09233859]\n",
      " [0.18626021 0.34556073 0.39676747]]\n",
      "[-2.3634686   1.13534535 -1.01701414  0.63736181 -0.85990661  1.77260763\n",
      " -1.11036305  0.18121427  0.56434487 -0.56651023]\n"
     ]
    }
   ],
   "source": [
    "seed = np.random.seed(1) #不随机\n",
    "print(np.random.rand(3)) #[0,1] 从均匀分布中抽取样本\n",
    "print(np.random.rand(2,3))\n",
    "print(np.random.randn(10)) #N(0,1)"
   ]
  },
  {
   "cell_type": "code",
   "execution_count": 110,
   "id": "c8cd7da0",
   "metadata": {},
   "outputs": [
    {
     "data": {
      "image/png": "[encoded data removed]",
      "text/plain": [
       "<Figure size 432x288 with 1 Axes>"
      ]
     },
     "metadata": {
      "needs_background": "light"
     },
     "output_type": "display_data"
    }
   ],
   "source": [
    "#绘制正弦曲线，加入噪声\n",
    "x = np.linspace(-10,10,100) #[-10,10)取100个间隔\n",
    "y = np.sin(x) + np.random.rand(len(x))\n",
    "plt.plot(x,y)\n",
    "plt.show()"
   ]
  },
  {
   "cell_type": "code",
   "execution_count": 116,
   "id": "2605e45a",
   "metadata": {},
   "outputs": [
    {
     "name": "stdout",
     "output_type": "stream",
     "text": [
      "[[8 7 2 1]\n",
      " [2 9 9 4]\n",
      " [9 8 4 7]]\n",
      "[[0.95788953 0.53316528 0.69187711]\n",
      " [0.31551563 0.68650093 0.83462567]]\n"
     ]
    }
   ],
   "source": [
    "print(np.random.randint(1,10, size = (3,4))) #返回1～10之间整数\n",
    "print(np.random.random(size = (2,3))) #返回0.0～1.0之间的float"
   ]
  },
  {
   "cell_type": "code",
   "execution_count": 120,
   "id": "a4789413",
   "metadata": {},
   "outputs": [
    {
     "name": "stdout",
     "output_type": "stream",
     "text": [
      "[3 0 0]\n",
      "[[2 2 1]\n",
      " [3 4 2]]\n",
      "[[6 6 1]\n",
      " [1 3 3]]\n"
     ]
    }
   ],
   "source": [
    "print( np.random.choice(5, 3) ) #从range(5)中生成3个随机数\n",
    "print( np.random.choice(5, (2,3)) )\n",
    "print( np.random.choice([1,3,4,7,2,4,6], (2,3)) )"
   ]
  },
  {
   "cell_type": "code",
   "execution_count": 129,
   "id": "a16477fe",
   "metadata": {},
   "outputs": [
    {
     "name": "stdout",
     "output_type": "stream",
     "text": [
      "[4 2 3 8 6 1 9 5 7 0]\n",
      "[2 1 8 7 0 5 6 3 9 4]\n"
     ]
    }
   ],
   "source": [
    "arr1 = np.arange(10)\n",
    "np.random.shuffle(arr1) #把数组随机排列，按element，原来的数组变化\n",
    "print(arr1)\n",
    "#二维数组按行随机\n",
    "#三维数组按块随机\n",
    "print(np.random.permutation(10)) #不用定义数组，直接生成随机顺序，原来数组不变"
   ]
  },
  {
   "cell_type": "code",
   "execution_count": 130,
   "id": "9fab6b5e",
   "metadata": {},
   "outputs": [
    {
     "name": "stdout",
     "output_type": "stream",
     "text": [
      "[-5.70662286  4.77563786  2.21821271]\n"
     ]
    }
   ],
   "source": [
    "arrNormal = np.random.normal(1,10,3) #N(1,10)\n",
    "print(arrNormal)\n",
    "#68%-95%-99%"
   ]
  },
  {
   "cell_type": "code",
   "execution_count": 131,
   "id": "4daabe2f",
   "metadata": {},
   "outputs": [
    {
     "name": "stdout",
     "output_type": "stream",
     "text": [
      "[5.97539781 8.57827803 2.11755984]\n"
     ]
    }
   ],
   "source": [
    "arrUniform = np.random.uniform(1,10,3) #U(1,10)\n",
    "print(arrUniform)"
   ]
  },
  {
   "cell_type": "markdown",
   "id": "cac87f37",
   "metadata": {},
   "source": [
    "# 通用函数"
   ]
  },
  {
   "cell_type": "code",
   "execution_count": 137,
   "id": "3f071af6",
   "metadata": {},
   "outputs": [
    {
     "name": "stdout",
     "output_type": "stream",
     "text": [
      "[0 1 2 3 4 5 6 7 8 9]\n",
      "[2 0 3 5 1 2 4 3 0 6]\n",
      "[0.         1.         1.41421356 1.73205081 2.         2.23606798\n",
      " 2.44948974 2.64575131 2.82842712 3.        ]\n",
      "[1.00000000e+00 2.71828183e+00 7.38905610e+00 2.00855369e+01\n",
      " 5.45981500e+01 1.48413159e+02 4.03428793e+02 1.09663316e+03\n",
      " 2.98095799e+03 8.10308393e+03]\n",
      "[ 2  1  5  8  5  7 10 10  8 15]\n"
     ]
    }
   ],
   "source": [
    "a = np.arange(10)\n",
    "b = np.random.randint(10, size = (10,))\n",
    "print(a)\n",
    "print(b)\n",
    "print(np.sqrt(a))\n",
    "print(np.exp(a))\n",
    "print(np.add(a,b))"
   ]
  },
  {
   "cell_type": "markdown",
   "id": "267dcc8c",
   "metadata": {},
   "source": [
    "# 数学和统计方法"
   ]
  },
  {
   "cell_type": "code",
   "execution_count": 142,
   "id": "eaabc7fd",
   "metadata": {},
   "outputs": [
    {
     "name": "stdout",
     "output_type": "stream",
     "text": [
      "21\n",
      "720\n",
      "[ 1  3  6 10 15 21]\n",
      "[  1   2   6  24 120 720]\n",
      "6\n",
      "1\n",
      "5\n",
      "0\n",
      "3.5\n",
      "3.5\n",
      "3.5\n",
      "1\n"
     ]
    }
   ],
   "source": [
    "a = np.array([1,2,3,4,5,6])\n",
    "print(np.sum(a)) # 1+2+3+4+5+6\n",
    "print(np.prod(a)) # 1*2*3*4*5*6\n",
    "print(np.cumsum(a)) #[1,1+2, 1+2+3,...]\n",
    "print(np.cumprod(a)) #[1, 1*2, 1*2*3,...]\n",
    "print(np.max(a))\n",
    "print(np.min(a))\n",
    "print(np.argmax(a)) #最大值的下标\n",
    "print(np.argmin(a)) #最小值的下标\n",
    "print(np.mean(a))\n",
    "print(np.median(a))\n",
    "print(np.average(a)) #加权平均数\n",
    "counts = np.bincount(a) #统计非负整数的个数，不能统计float\n",
    "print(np.argmax(counts))#返回众数，不能用于二维数组，用pandas"
   ]
  },
  {
   "cell_type": "code",
   "execution_count": 145,
   "id": "3a5b2e47",
   "metadata": {},
   "outputs": [
    {
     "name": "stdout",
     "output_type": "stream",
     "text": [
      "0    6\n",
      "dtype: int64\n",
      "   0\n",
      "0  6\n"
     ]
    }
   ],
   "source": [
    "#mode\n",
    "#一维数组\n",
    "nums = np.random.randint(1,10,size = 20)\n",
    "ser = pd.Series(nums)\n",
    "print(ser.mode())\n",
    "#二维数组\n",
    "nums2 = np.random.randint(1,10, size = 20).reshape(4,5)\n",
    "df = pd.DataFrame(nums)\n",
    "print(df.mode())"
   ]
  },
  {
   "cell_type": "code",
   "execution_count": 151,
   "id": "4e725008",
   "metadata": {},
   "outputs": [
    {
     "name": "stdout",
     "output_type": "stream",
     "text": [
      "[[0 1 2 3 4]\n",
      " [5 6 7 8 9]]\n",
      "[ 5  7  9 11 13]\n",
      "[10 35]\n"
     ]
    }
   ],
   "source": [
    "a = np.arange(10).reshape(2,5)\n",
    "print(a)\n",
    "print( np.sum(a,axis=0) ) #按行相加\n",
    "print( np.sum(a,axis=1) ) #按列相加"
   ]
  },
  {
   "cell_type": "markdown",
   "id": "74d7e419",
   "metadata": {},
   "source": [
    "# 条件计算, sort, argsort, unique"
   ]
  },
  {
   "cell_type": "code",
   "execution_count": 154,
   "id": "fb757104",
   "metadata": {},
   "outputs": [
    {
     "name": "stdout",
     "output_type": "stream",
     "text": [
      "[0 1 2 3 4 5 6 7 8 9]\n",
      "[1314 1314 1314 1314  520  520  520  520  520  520]\n"
     ]
    }
   ],
   "source": [
    "a = np.arange(10)\n",
    "print(a)\n",
    "#if a>3 返回520，if a<3 返回1314\n",
    "print( np.where(a>3, 520,1314) )"
   ]
  },
  {
   "cell_type": "code",
   "execution_count": 155,
   "id": "acfe177e",
   "metadata": {},
   "outputs": [
    {
     "name": "stdout",
     "output_type": "stream",
     "text": [
      "6\n"
     ]
    }
   ],
   "source": [
    "#数组中大于3的个数\n",
    "print( (a>3).sum() )"
   ]
  },
  {
   "cell_type": "code",
   "execution_count": 156,
   "id": "88d6ba60",
   "metadata": {},
   "outputs": [
    {
     "name": "stdout",
     "output_type": "stream",
     "text": [
      "True\n",
      "False\n"
     ]
    }
   ],
   "source": [
    "b = np.array( [False, False, True, False] )\n",
    "print(b.any()) #至少有一个为真\n",
    "print(b.all())"
   ]
  },
  {
   "cell_type": "code",
   "execution_count": 159,
   "id": "5614cb8e",
   "metadata": {},
   "outputs": [
    {
     "name": "stdout",
     "output_type": "stream",
     "text": [
      "[2 3 5 5 6 7 9]\n"
     ]
    }
   ],
   "source": [
    "c = np.array( [3,2,5,6,7,5,9] )\n",
    "c.sort() #修改原始数组\n",
    "print(c)"
   ]
  },
  {
   "cell_type": "code",
   "execution_count": 162,
   "id": "612e21e5",
   "metadata": {},
   "outputs": [
    {
     "name": "stdout",
     "output_type": "stream",
     "text": [
      "[2 3 5 5 6 7 9]\n"
     ]
    }
   ],
   "source": [
    "d = np.array( [3,2,5,6,7,5,9] )\n",
    "print(d[d.argsort()]) #不修改原始数组"
   ]
  },
  {
   "cell_type": "code",
   "execution_count": 172,
   "id": "763224b5",
   "metadata": {},
   "outputs": [
    {
     "name": "stdout",
     "output_type": "stream",
     "text": [
      "[1 2 3 4 5 6]\n",
      "[ True False False  True  True  True  True False False]\n"
     ]
    }
   ],
   "source": [
    "e = [1,2,3,4,4,4,4,5,6]\n",
    "print(np.unique(e)) #去重\n",
    "print(np.in1d(e, [1,4,10])) #exist?"
   ]
  },
  {
   "cell_type": "code",
   "execution_count": null,
   "id": "c5b8ab4d",
   "metadata": {},
   "outputs": [],
   "source": [
    "f = e.copy() # e,f互不影响，不要用=，会相互影响"
   ]
  }
 ],
 "metadata": {
  "kernelspec": {
   "display_name": "Python 3 (ipykernel)",
   "language": "python",
   "name": "python3"
  },
  "language_info": {
   "codemirror_mode": {
    "name": "ipython",
    "version": 3
   },
   "file_extension": ".py",
   "mimetype": "text/x-python",
   "name": "python",
   "nbconvert_exporter": "python",
   "pygments_lexer": "ipython3",
   "version": "3.9.12"
  }
 },
 "nbformat": 4,
 "nbformat_minor": 5
}
